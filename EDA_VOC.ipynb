{
 "cells": [
  {
   "cell_type": "markdown",
   "metadata": {},
   "source": [
    "# 👤 Personal Information\n",
    "Name: **Sinem Ertem**\n",
    "\n",
    "StudentID: **14616068**\n",
    "\n",
    "Email: [**sinem.ertem@student.uva.nl**](youremail@student.uva.nl)\n",
    "\n",
    "Submitted on: **DD.MM.YYYY**"
   ]
  },
  {
   "cell_type": "markdown",
   "id": "af438585",
   "metadata": {},
   "source": [
    "# 📊 Data Context\n",
    "**Nationaal Archief <a name=\"NA\"></a>[<sup>[1]</sup>](#NA) is the Netherlands' official archive, responsible for preserving the country's historical documents and records. It is the largest archive in the country, with holdings dating back to the Middle Ages. Similarly, they have documents from the Dutch United East India Company (Verenigde Oostindische Compagnie or VOC). The VOC, founded in 1602, was unquestionably the most thriving of all trading companies in the seventeenth and eighteenth centuries <a name=\"Gaastra2007\"></a>[<sup>[2]</sup>](#Gaastra2007)**\n",
    "\n",
    "\n",
    "**VOC's archives provide a unique insight into the history of early modern Europe and the wider world. They contain records of business activities, such as trade contracts, shipping records, and financial accounts. They also include detailed accounts of the day-to-day life of the VOC and its employees. This wealth of information allows us to better understand the dynamics of early modern global trade and colonialism. Additionally, the archives provide an insight into the experiences of the people who lived and worked in the Dutch East Indies, including the effects of colonization on the local population and their interactions with Dutch merchants and traders.**\n",
    "\n",
    "**Luthra et al. <a name=\"luthra\"></a>[<sup>[3]</sup>](#luthra) released a corpus of nearly 70,000 annotations as a shared task, for which they provide strong baselines using state-of-the-art neural network models. The Data Card <a name=\"dc\"></a>[<sup>[4]</sup>](#dc) provides a synopsis of the dataset, motivations and uses. The dataset will be further analyzed in this notebook.**\n",
    "\n",
    "## NLP\n",
    "\n",
    "**A way to better understand these historical archives is by Natural Language Processing (NLP). The domain of NLP, which is also known as computational linguistics, incorporates the engineering of computer models and processes to tackle such practically-oriented problems in understanding human languages.**\n",
    "\n",
    "**This research paper will delve into extracting useful information from text, more specifically, NER. NER corresponds to the identification of entities of interest in texts, generally of the types Person, Organisation and Location. Such entities serve as reference points that form the meaning of text and assist in its interpretation.**\n",
    "\n",
    "[1] https://www.nationaalarchief.nl/en \\\n",
    "[2] https://www.nationaalarchief.nl/sites/default/files/afbeeldingen/toegangen/NL-HaNA_1.04.02_introduction-VOC.pdf \\\n",
    "[3] https://www.emerald.com/insight/content/doi/10.1108/JD-02-2022-0038/full/html \\\n",
    "[4] https://github.com/budh333/UnSilence_VOC/blob/main/Datacard.pdf"
   ]
  },
  {
   "cell_type": "markdown",
   "id": "3e4154c6",
   "metadata": {},
   "source": [
    "<!-- ![image](img/dataset_snapshot.png) -->"
   ]
  },
  {
   "cell_type": "markdown",
   "metadata": {},
   "source": [
    "# 📄 Data Description"
   ]
  },
  {
   "cell_type": "markdown",
   "metadata": {},
   "source": [
    "### Import libraries"
   ]
  },
  {
   "cell_type": "code",
   "execution_count": 6,
   "metadata": {},
   "outputs": [
    {
     "name": "stdout",
     "output_type": "stream",
     "text": [
      "Requirement already satisfied: spacy in /usr/local/lib/python3.10/site-packages (3.5.1)\n",
      "Requirement already satisfied: murmurhash<1.1.0,>=0.28.0 in /usr/local/lib/python3.10/site-packages (from spacy) (1.0.9)\n",
      "Requirement already satisfied: pydantic!=1.8,!=1.8.1,<1.11.0,>=1.7.4 in /usr/local/lib/python3.10/site-packages (from spacy) (1.10.6)\n",
      "Requirement already satisfied: thinc<8.2.0,>=8.1.8 in /usr/local/lib/python3.10/site-packages (from spacy) (8.1.9)\n",
      "Requirement already satisfied: typer<0.8.0,>=0.3.0 in /usr/local/lib/python3.10/site-packages (from spacy) (0.7.0)\n",
      "Requirement already satisfied: spacy-legacy<3.1.0,>=3.0.11 in /usr/local/lib/python3.10/site-packages (from spacy) (3.0.12)\n",
      "Requirement already satisfied: packaging>=20.0 in /Users/wolfsinem/Library/Python/3.10/lib/python/site-packages (from spacy) (23.0)\n",
      "Requirement already satisfied: pathy>=0.10.0 in /usr/local/lib/python3.10/site-packages (from spacy) (0.10.1)\n",
      "Requirement already satisfied: catalogue<2.1.0,>=2.0.6 in /usr/local/lib/python3.10/site-packages (from spacy) (2.0.8)\n",
      "Requirement already satisfied: requests<3.0.0,>=2.13.0 in /usr/local/lib/python3.10/site-packages (from spacy) (2.28.2)\n",
      "Requirement already satisfied: srsly<3.0.0,>=2.4.3 in /usr/local/lib/python3.10/site-packages (from spacy) (2.4.6)\n",
      "Requirement already satisfied: jinja2 in /usr/local/lib/python3.10/site-packages (from spacy) (3.1.2)\n",
      "Requirement already satisfied: smart-open<7.0.0,>=5.2.1 in /usr/local/lib/python3.10/site-packages (from spacy) (6.3.0)\n",
      "Requirement already satisfied: cymem<2.1.0,>=2.0.2 in /usr/local/lib/python3.10/site-packages (from spacy) (2.0.7)\n",
      "Requirement already satisfied: wasabi<1.2.0,>=0.9.1 in /usr/local/lib/python3.10/site-packages (from spacy) (1.1.1)\n",
      "Requirement already satisfied: preshed<3.1.0,>=3.0.2 in /usr/local/lib/python3.10/site-packages (from spacy) (3.0.8)\n",
      "Requirement already satisfied: tqdm<5.0.0,>=4.38.0 in /usr/local/lib/python3.10/site-packages (from spacy) (4.64.1)\n",
      "Requirement already satisfied: langcodes<4.0.0,>=3.2.0 in /usr/local/lib/python3.10/site-packages (from spacy) (3.3.0)\n",
      "Requirement already satisfied: spacy-loggers<2.0.0,>=1.0.0 in /usr/local/lib/python3.10/site-packages (from spacy) (1.0.4)\n",
      "Requirement already satisfied: setuptools in /usr/local/lib/python3.10/site-packages (from spacy) (65.4.1)\n",
      "Requirement already satisfied: numpy>=1.15.0 in /usr/local/lib/python3.10/site-packages (from spacy) (1.24.2)\n",
      "Requirement already satisfied: typing-extensions>=4.2.0 in /usr/local/lib/python3.10/site-packages (from pydantic!=1.8,!=1.8.1,<1.11.0,>=1.7.4->spacy) (4.5.0)\n",
      "Requirement already satisfied: charset-normalizer<4,>=2 in /usr/local/lib/python3.10/site-packages (from requests<3.0.0,>=2.13.0->spacy) (3.1.0)\n",
      "Requirement already satisfied: urllib3<1.27,>=1.21.1 in /usr/local/lib/python3.10/site-packages (from requests<3.0.0,>=2.13.0->spacy) (1.26.14)\n",
      "Requirement already satisfied: certifi>=2017.4.17 in /usr/local/lib/python3.10/site-packages (from requests<3.0.0,>=2.13.0->spacy) (2022.12.7)\n",
      "Requirement already satisfied: idna<4,>=2.5 in /usr/local/lib/python3.10/site-packages (from requests<3.0.0,>=2.13.0->spacy) (3.4)\n",
      "Requirement already satisfied: confection<1.0.0,>=0.0.1 in /usr/local/lib/python3.10/site-packages (from thinc<8.2.0,>=8.1.8->spacy) (0.0.4)\n",
      "Requirement already satisfied: blis<0.8.0,>=0.7.8 in /usr/local/lib/python3.10/site-packages (from thinc<8.2.0,>=8.1.8->spacy) (0.7.9)\n",
      "Requirement already satisfied: click<9.0.0,>=7.1.1 in /usr/local/lib/python3.10/site-packages (from typer<0.8.0,>=0.3.0->spacy) (8.1.3)\n",
      "Requirement already satisfied: MarkupSafe>=2.0 in /usr/local/lib/python3.10/site-packages (from jinja2->spacy) (2.1.2)\n",
      "\n",
      "\u001b[1m[\u001b[0m\u001b[34;49mnotice\u001b[0m\u001b[1;39;49m]\u001b[0m\u001b[39;49m A new release of pip available: \u001b[0m\u001b[31;49m22.2.2\u001b[0m\u001b[39;49m -> \u001b[0m\u001b[32;49m23.0.1\u001b[0m\n",
      "\u001b[1m[\u001b[0m\u001b[34;49mnotice\u001b[0m\u001b[1;39;49m]\u001b[0m\u001b[39;49m To update, run: \u001b[0m\u001b[32;49mpython3.10 -m pip install --upgrade pip\u001b[0m\n",
      "Collecting nl-core-news-sm==3.5.0\n",
      "  Downloading https://github.com/explosion/spacy-models/releases/download/nl_core_news_sm-3.5.0/nl_core_news_sm-3.5.0-py3-none-any.whl (12.8 MB)\n",
      "\u001b[2K     \u001b[90m━━━━━━━━━━━━━━━━━━━━━━━━━━━━━━━━━━━━━━━━\u001b[0m \u001b[32m12.8/12.8 MB\u001b[0m \u001b[31m5.0 MB/s\u001b[0m eta \u001b[36m0:00:00\u001b[0m00:01\u001b[0m00:01\u001b[0m\n",
      "\u001b[?25hRequirement already satisfied: spacy<3.6.0,>=3.5.0 in /usr/local/lib/python3.10/site-packages (from nl-core-news-sm==3.5.0) (3.5.1)\n",
      "Requirement already satisfied: srsly<3.0.0,>=2.4.3 in /usr/local/lib/python3.10/site-packages (from spacy<3.6.0,>=3.5.0->nl-core-news-sm==3.5.0) (2.4.6)\n",
      "Requirement already satisfied: spacy-loggers<2.0.0,>=1.0.0 in /usr/local/lib/python3.10/site-packages (from spacy<3.6.0,>=3.5.0->nl-core-news-sm==3.5.0) (1.0.4)\n",
      "Requirement already satisfied: pydantic!=1.8,!=1.8.1,<1.11.0,>=1.7.4 in /usr/local/lib/python3.10/site-packages (from spacy<3.6.0,>=3.5.0->nl-core-news-sm==3.5.0) (1.10.6)\n",
      "Requirement already satisfied: catalogue<2.1.0,>=2.0.6 in /usr/local/lib/python3.10/site-packages (from spacy<3.6.0,>=3.5.0->nl-core-news-sm==3.5.0) (2.0.8)\n",
      "Requirement already satisfied: packaging>=20.0 in /Users/wolfsinem/Library/Python/3.10/lib/python/site-packages (from spacy<3.6.0,>=3.5.0->nl-core-news-sm==3.5.0) (23.0)\n",
      "Requirement already satisfied: numpy>=1.15.0 in /usr/local/lib/python3.10/site-packages (from spacy<3.6.0,>=3.5.0->nl-core-news-sm==3.5.0) (1.24.2)\n",
      "Requirement already satisfied: cymem<2.1.0,>=2.0.2 in /usr/local/lib/python3.10/site-packages (from spacy<3.6.0,>=3.5.0->nl-core-news-sm==3.5.0) (2.0.7)\n",
      "Requirement already satisfied: spacy-legacy<3.1.0,>=3.0.11 in /usr/local/lib/python3.10/site-packages (from spacy<3.6.0,>=3.5.0->nl-core-news-sm==3.5.0) (3.0.12)\n",
      "Requirement already satisfied: typer<0.8.0,>=0.3.0 in /usr/local/lib/python3.10/site-packages (from spacy<3.6.0,>=3.5.0->nl-core-news-sm==3.5.0) (0.7.0)\n",
      "Requirement already satisfied: murmurhash<1.1.0,>=0.28.0 in /usr/local/lib/python3.10/site-packages (from spacy<3.6.0,>=3.5.0->nl-core-news-sm==3.5.0) (1.0.9)\n",
      "Requirement already satisfied: smart-open<7.0.0,>=5.2.1 in /usr/local/lib/python3.10/site-packages (from spacy<3.6.0,>=3.5.0->nl-core-news-sm==3.5.0) (6.3.0)\n",
      "Requirement already satisfied: setuptools in /usr/local/lib/python3.10/site-packages (from spacy<3.6.0,>=3.5.0->nl-core-news-sm==3.5.0) (65.4.1)\n",
      "Requirement already satisfied: jinja2 in /usr/local/lib/python3.10/site-packages (from spacy<3.6.0,>=3.5.0->nl-core-news-sm==3.5.0) (3.1.2)\n",
      "Requirement already satisfied: langcodes<4.0.0,>=3.2.0 in /usr/local/lib/python3.10/site-packages (from spacy<3.6.0,>=3.5.0->nl-core-news-sm==3.5.0) (3.3.0)\n",
      "Requirement already satisfied: preshed<3.1.0,>=3.0.2 in /usr/local/lib/python3.10/site-packages (from spacy<3.6.0,>=3.5.0->nl-core-news-sm==3.5.0) (3.0.8)\n",
      "Requirement already satisfied: pathy>=0.10.0 in /usr/local/lib/python3.10/site-packages (from spacy<3.6.0,>=3.5.0->nl-core-news-sm==3.5.0) (0.10.1)\n",
      "Requirement already satisfied: wasabi<1.2.0,>=0.9.1 in /usr/local/lib/python3.10/site-packages (from spacy<3.6.0,>=3.5.0->nl-core-news-sm==3.5.0) (1.1.1)\n",
      "Requirement already satisfied: thinc<8.2.0,>=8.1.8 in /usr/local/lib/python3.10/site-packages (from spacy<3.6.0,>=3.5.0->nl-core-news-sm==3.5.0) (8.1.9)\n",
      "Requirement already satisfied: tqdm<5.0.0,>=4.38.0 in /usr/local/lib/python3.10/site-packages (from spacy<3.6.0,>=3.5.0->nl-core-news-sm==3.5.0) (4.64.1)\n",
      "Requirement already satisfied: requests<3.0.0,>=2.13.0 in /usr/local/lib/python3.10/site-packages (from spacy<3.6.0,>=3.5.0->nl-core-news-sm==3.5.0) (2.28.2)\n",
      "Requirement already satisfied: typing-extensions>=4.2.0 in /usr/local/lib/python3.10/site-packages (from pydantic!=1.8,!=1.8.1,<1.11.0,>=1.7.4->spacy<3.6.0,>=3.5.0->nl-core-news-sm==3.5.0) (4.5.0)\n",
      "Requirement already satisfied: certifi>=2017.4.17 in /usr/local/lib/python3.10/site-packages (from requests<3.0.0,>=2.13.0->spacy<3.6.0,>=3.5.0->nl-core-news-sm==3.5.0) (2022.12.7)\n",
      "Requirement already satisfied: idna<4,>=2.5 in /usr/local/lib/python3.10/site-packages (from requests<3.0.0,>=2.13.0->spacy<3.6.0,>=3.5.0->nl-core-news-sm==3.5.0) (3.4)\n",
      "Requirement already satisfied: charset-normalizer<4,>=2 in /usr/local/lib/python3.10/site-packages (from requests<3.0.0,>=2.13.0->spacy<3.6.0,>=3.5.0->nl-core-news-sm==3.5.0) (3.1.0)\n",
      "Requirement already satisfied: urllib3<1.27,>=1.21.1 in /usr/local/lib/python3.10/site-packages (from requests<3.0.0,>=2.13.0->spacy<3.6.0,>=3.5.0->nl-core-news-sm==3.5.0) (1.26.14)\n",
      "Requirement already satisfied: blis<0.8.0,>=0.7.8 in /usr/local/lib/python3.10/site-packages (from thinc<8.2.0,>=8.1.8->spacy<3.6.0,>=3.5.0->nl-core-news-sm==3.5.0) (0.7.9)\n",
      "Requirement already satisfied: confection<1.0.0,>=0.0.1 in /usr/local/lib/python3.10/site-packages (from thinc<8.2.0,>=8.1.8->spacy<3.6.0,>=3.5.0->nl-core-news-sm==3.5.0) (0.0.4)\n",
      "Requirement already satisfied: click<9.0.0,>=7.1.1 in /usr/local/lib/python3.10/site-packages (from typer<0.8.0,>=0.3.0->spacy<3.6.0,>=3.5.0->nl-core-news-sm==3.5.0) (8.1.3)\n",
      "Requirement already satisfied: MarkupSafe>=2.0 in /usr/local/lib/python3.10/site-packages (from jinja2->spacy<3.6.0,>=3.5.0->nl-core-news-sm==3.5.0) (2.1.2)\n",
      "Installing collected packages: nl-core-news-sm\n",
      "Successfully installed nl-core-news-sm-3.5.0\n",
      "\n",
      "\u001b[1m[\u001b[0m\u001b[34;49mnotice\u001b[0m\u001b[1;39;49m]\u001b[0m\u001b[39;49m A new release of pip available: \u001b[0m\u001b[31;49m22.2.2\u001b[0m\u001b[39;49m -> \u001b[0m\u001b[32;49m23.0.1\u001b[0m\n",
      "\u001b[1m[\u001b[0m\u001b[34;49mnotice\u001b[0m\u001b[1;39;49m]\u001b[0m\u001b[39;49m To update, run: \u001b[0m\u001b[32;49mpython3.10 -m pip install --upgrade pip\u001b[0m\n",
      "\u001b[38;5;2m✔ Download and installation successful\u001b[0m\n",
      "You can now load the package via spacy.load('nl_core_news_sm')\n"
     ]
    }
   ],
   "source": [
    "import warnings\n",
    "warnings.filterwarnings('ignore')\n",
    "\n",
    "from tqdm import tqdm\n",
    "import os\n",
    "from glob import glob\n",
    "\n",
    "import pandas as pd\n",
    "\n",
    "import matplotlib.pyplot as plt\n",
    "import seaborn as sns\n",
    "\n",
    "from preprocessing import clean_text\n",
    "\n",
    "# !pip3 install spacy\n",
    "# !python3 -m spacy download nl_core_news_sm\n",
    "import spacy\n",
    "from spacy import displacy\n",
    "nlp = spacy.load(\"nl_core_news_sm\") \n",
    "# nlp.pipe_names ['tok2vec', 'morphologizer', 'tagger', 'parser', 'lemmatizer', 'attribute_ruler','ner']"
   ]
  },
  {
   "cell_type": "markdown",
   "metadata": {},
   "source": [
    "### Data Loading"
   ]
  },
  {
   "cell_type": "code",
   "execution_count": 7,
   "id": "90fe08fd",
   "metadata": {},
   "outputs": [],
   "source": [
    "# Within the annotated_data directory there are 5 different directories, with each containing both txt and ann files\n",
    "data_path = '../UnSilence_VOC-main/data/annotated_data/'"
   ]
  },
  {
   "cell_type": "code",
   "execution_count": 8,
   "id": "143a7c4f",
   "metadata": {},
   "outputs": [
    {
     "name": "stdout",
     "output_type": "stream",
     "text": [
      "333\n",
      "267\n",
      "624\n",
      "463\n",
      "512\n"
     ]
    }
   ],
   "source": [
    "# In total there are 2199 annotation files and text files \n",
    "for i in ['A','B','C','D','E']:\n",
    "    file_list = os.listdir(data_path+i)\n",
    "    num_ann_files = len([filename for filename in file_list if filename.endswith('.ann')])\n",
    "    print(num_ann_files)"
   ]
  },
  {
   "cell_type": "code",
   "execution_count": 9,
   "id": "9da5d08f",
   "metadata": {},
   "outputs": [],
   "source": [
    "def read_file(url):\n",
    "    with open(url) as f:\n",
    "        lines = f.readlines()\n",
    "        for line in lines:\n",
    "            line = line.strip()\n",
    "            print(line)"
   ]
  },
  {
   "attachments": {},
   "cell_type": "markdown",
   "id": "be4b17cf",
   "metadata": {},
   "source": [
    "#### VOC testament 1"
   ]
  },
  {
   "cell_type": "code",
   "execution_count": 10,
   "metadata": {},
   "outputs": [
    {
     "name": "stdout",
     "output_type": "stream",
     "text": [
      "11\n",
      "„\n",
      "„\n",
      "35\n",
      "in beneven\n",
      "zijn Gemelde aanbehumde vader de voorneemde\n",
      "_\n",
      "5\n",
      "tames va\n",
      "e2\n",
      "25\n",
      "6\n",
      "welken hy testateur betuigde in dienst aangenemen en uitgevaren\n",
      "te zyn ten Eynde door haar hoog Edele groot agtb=r uytgekeerd\n",
      "te werden aan de geene da tot dies ontfangst zal ef zullen\n",
      "Wesen gequalificeerd\n",
      "Behuygende den toetateur op myne gedane verage dat zyn beidel\n",
      "beneden de Twee duivend rd:s was bedragen de\n",
      "voorts heb ik Not:s den Poetaleur behoorlyk g'informeerd van de\n",
      "Jongste besluyten door welmelde hunne hoog Edelhedens ten op„\n",
      "Bigt van de Lijsteygenen die gedoopt in de christelyke leere onderwesen\n",
      "zijn Successive genamen.\n",
      "Al T Gunt voorsz: staat den testateur ure en duydelyk voorge„\n",
      "lesen en voorgehouden in by zin E: zoo hy betuigde wel verstaan zynde\n",
      "begeerde hy dat dat instrument zijn volkomen efect mogte ge„\n",
      "pielen t By als testaaren Codicell gifte ter zake des doods chte\n",
      "Eenige andere makinge van uytferste Wille zulx ’t zelve best\n",
      "na regten zal konnen bestaan, schoon de nodige Solemnityten\n",
      "in desen gerequireerd met volkomen waaren G'observeerd:—\n",
      "Aldus gedaan ende getesteerd ten huyse Alss in den hoofde\n",
      "deses gemeld ter presentie van Lucas Andries en Carolustus\n",
      "Johannesz Clenq als geluygen\n",
      "De Minute deses is behoorlyk getek:d en gesz op Een zegel\n",
      "van Een Rd:s /onderstond/ quod Altestor / was gesek:d\n",
      "J: N: Bestbier not:s / ter zyde stond/ dit testament in alhier\n",
      "ter Weest gelesen en geregistreerd ingevolge heeren weesen.\n",
      "resolutie van Eato deses Batavia in de wirsk: den 15:\n",
      "xber 1784: /was Getekt/ H: N: Lacle Secretaris.\n",
      "1\n",
      "Ip Huijden den 25: November 1784:\n",
      "Des nademiddags te halff ses uuren\n",
      "Compareerde voor mij Nicolaas van Bergen van der\n",
      "Grijp Not:o publ: bij d’ Edele hooge regeringe van nederlands indra\n",
      "g'admitteerd binnen de stad Batavia resideerende present\n",
      "de natemelden getuijgen den 5: Nicolaas Iohannes\n",
      "Ouman adsistent ten dienste der E. Comp: woonende af„\n",
      "„hier my bekend zijnde ziekelijk van Lichaam dog hebbende zynde\n",
      "volkomen\n"
     ]
    }
   ],
   "source": [
    "read_file(data_path+'A/NL-HaNA_1.04.02_6848_0031.txt')"
   ]
  },
  {
   "attachments": {},
   "cell_type": "markdown",
   "id": "542a3fe0",
   "metadata": {},
   "source": [
    "#### VOC testament 1 annotations"
   ]
  },
  {
   "cell_type": "code",
   "execution_count": 11,
   "metadata": {},
   "outputs": [
    {
     "name": "stdout",
     "output_type": "stream",
     "text": [
      "T1\tPerson 413 432\tNot:s den Poetaleur\n",
      "A1\tGender T1 Man\n",
      "A2\tLegalStatus T1 Unspecified\n",
      "T2\tProperName 419 431\tden Poetaleu\n",
      "T4\tProperName 1147 1160\tLucas Andries\n",
      "T7\tPerson 1316 1336\tJ: N: Bestbier not:s\n",
      "A10\tGender T7 Man\n",
      "A11\tLegalStatus T7 Unspecified\n",
      "T8\tProperName 1316 1330\tJ: N: Bestbier\n",
      "T10\tProperName 1464 1471\tBatavia\n",
      "T12\tProperName 1517 1528\tH: N: Lacle\n",
      "T13\tPerson 1633 1660;1661 1678\tNicolaas van Bergen van der Grijp Not:o publ:\n",
      "A16\tGender T13 Man\n",
      "A17\tLegalStatus T13 Unspecified\n",
      "T14\tProperName 1633 1660;1661 1666\tNicolaas van Bergen van der Grijp\n",
      "T16\tPlace 1712 1728\tnederlands indra\n",
      "T17\tProperName 1712 1728\tnederlands indra\n",
      "T18\tProperName 1692 1728\thooge regeringe van nederlands indra\n",
      "T19\tPlace 1742 1764\tbinnen de stad Batavia\n",
      "T20\tProperName 1757 1764\tBatavia\n",
      "T22\tProperName 1817 1834;1835 1840\tNicolaas Iohannes Ouman\n",
      "T26\tPerson 1517 1540\tH: N: Lacle Secretaris.\n",
      "A25\tGender T26 Man\n",
      "A26\tLegalStatus T26 Unspecified\n",
      "A3\tRole T1 Notary\n",
      "T3\tPerson 1147 1160\tLucas Andries\n",
      "A4\tGender T3 Man\n",
      "A5\tLegalStatus T3 Unspecified\n",
      "A6\tRole T3 Witness\n",
      "T5\tPerson 1164 1174;1175 1203\tCarolustus Johannesz Clenq als geluygen\n",
      "A7\tGender T5 Man\n",
      "A8\tLegalStatus T5 Unspecified\n",
      "A9\tRole T5 Witness\n",
      "T6\tProperName 1164 1174;1175 1184\tCarolustus Johannesz\n",
      "A12\tRole T7 Notary\n",
      "T11\tPlace 1369 1378;1379 1388\tin alhier ter Weest\n",
      "T25\tPlace 1464 1483\tBatavia in de wirsk\n",
      "A13\tRole T26 Other\n",
      "A14\tRole T13 Notary\n",
      "T9\tPerson 1817 1834;1835 1849\tNicolaas Iohannes Ouman adsisten\n",
      "A15\tGender T9 Man\n",
      "A18\tLegalStatus T9 Unspecified\n",
      "A19\tRole T9 Testator\n",
      "T21\tPerson 537 549\tLijsteygenen\n",
      "A20\tGender T21 Group\n",
      "A21\tLegalStatus T21 Enslaved\n",
      "A22\tRole T21 Other\n",
      "T24\tPlace 1087 1096\tten huyse\n",
      "T28\tProperName 1867 1874\tE. Comp\n"
     ]
    }
   ],
   "source": [
    "read_file(data_path+'A/NL-HaNA_1.04.02_6848_0031.ann')"
   ]
  },
  {
   "attachments": {},
   "cell_type": "markdown",
   "id": "3c5c12bd",
   "metadata": {},
   "source": [
    "## SpaCy NER"
   ]
  },
  {
   "attachments": {},
   "cell_type": "markdown",
   "id": "7f84581b",
   "metadata": {},
   "source": [
    "**SpaCy is a Python library for advanced natural language processing, and it provides several pre-trained models for various NLP tasks, including named entity recognition (NER). To use SpaCy's NER model on VOC testaments, which is in old Dutch, you'll first need to load the Dutch language model *nl_core_news_sm***"
   ]
  },
  {
   "cell_type": "code",
   "execution_count": 12,
   "id": "60a8ced2",
   "metadata": {},
   "outputs": [
    {
     "name": "stdout",
     "output_type": "stream",
     "text": [
      "twee | CARDINAL | Numerals that do not fall under another type\n",
      "volkomen | PERSON | People, including fictional\n",
      "lucas andries | PERSON | People, including fictional\n",
      "clenq | GPE | Countries, cities, states\n",
      "j n | PERSON | People, including fictional\n",
      "november | DATE | Absolute or relative dates or periods\n",
      "nederlands | LANGUAGE | Any named language\n",
      "indra n g | PERSON | People, including fictional\n",
      "volkomen | PERSON | People, including fictional\n"
     ]
    }
   ],
   "source": [
    "with open(data_path+'A/NL-HaNA_1.04.02_6848_0031.txt') as f:\n",
    "        lines = f.readlines()\n",
    "\n",
    "text = clean_text(lines)\n",
    "doc = nlp(text)\n",
    "for ent in doc.ents:\n",
    "    print(ent.text, \"|\", ent.label_, \"|\", spacy.explain(ent.label_))"
   ]
  },
  {
   "cell_type": "code",
   "execution_count": 19,
   "id": "fc4821ba",
   "metadata": {},
   "outputs": [
    {
     "data": {
      "text/html": [
       "<span class=\"tex2jax_ignore\"><!DOCTYPE html>\n",
       "<html lang=\"nl\">\n",
       "    <head>\n",
       "        <title>displaCy</title>\n",
       "    </head>\n",
       "\n",
       "    <body style=\"font-size: 16px; font-family: -apple-system, BlinkMacSystemFont, 'Segoe UI', Helvetica, Arial, sans-serif, 'Apple Color Emoji', 'Segoe UI Emoji', 'Segoe UI Symbol'; padding: 4rem 2rem; direction: ltr\">\n",
       "<figure style=\"margin-bottom: 6rem\">\n",
       "<div class=\"entities\" style=\"line-height: 2.5; direction: ltr\">n n n n in beneven n zijn gemelde aanbehumde vader de voorneemde n n n tames va n e n n n welken hy testateur betuigde in dienst aangenemen en uitgevaren n te zyn ten eynde door haar hoog edele groot agtb r uytgekeerd n te werden aan de geene da tot dies ontfangst zal ef zullen n wesen gequalificeerd n behuygende den toetateur op myne gedane verage dat zyn beidel n beneden de \n",
       "<mark class=\"entity\" style=\"background: #e4e7d2; padding: 0.45em 0.6em; margin: 0 0.25em; line-height: 1; border-radius: 0.35em;\">\n",
       "    twee\n",
       "    <span style=\"font-size: 0.8em; font-weight: bold; line-height: 1; border-radius: 0.35em; vertical-align: middle; margin-left: 0.5rem\">CARDINAL</span>\n",
       "</mark>\n",
       " duivend rd s was bedragen de n voorts heb ik not s den poetaleur behoorlyk g informeerd van de n jongste besluyten door welmelde hunne hoog edelhedens ten op n bigt van de lijsteygenen die gedoopt in de christelyke leere onderwesen n zijn successive genamen n al t gunt voorsz staat den testateur ure en duydelyk voorge n lesen en voorgehouden in by zin e zoo hy betuigde wel verstaan zynde n begeerde hy dat dat instrument zijn volkomen efect mogte ge n pielen t by als testaaren codicell gifte ter zake des doods chte n eenige andere makinge van uytferste wille zulx t zelve best n na regten zal konnen bestaan schoon de nodige solemnityten n in desen gerequireerd met \n",
       "<mark class=\"entity\" style=\"background: #aa9cfc; padding: 0.45em 0.6em; margin: 0 0.25em; line-height: 1; border-radius: 0.35em;\">\n",
       "    volkomen\n",
       "    <span style=\"font-size: 0.8em; font-weight: bold; line-height: 1; border-radius: 0.35em; vertical-align: middle; margin-left: 0.5rem\">PERSON</span>\n",
       "</mark>\n",
       " waaren g observeerd n aldus gedaan ende getesteerd ten huyse alss in den hoofde n deses gemeld ter presentie van \n",
       "<mark class=\"entity\" style=\"background: #aa9cfc; padding: 0.45em 0.6em; margin: 0 0.25em; line-height: 1; border-radius: 0.35em;\">\n",
       "    lucas andries\n",
       "    <span style=\"font-size: 0.8em; font-weight: bold; line-height: 1; border-radius: 0.35em; vertical-align: middle; margin-left: 0.5rem\">PERSON</span>\n",
       "</mark>\n",
       " en carolustus n johannesz \n",
       "<mark class=\"entity\" style=\"background: #feca74; padding: 0.45em 0.6em; margin: 0 0.25em; line-height: 1; border-radius: 0.35em;\">\n",
       "    clenq\n",
       "    <span style=\"font-size: 0.8em; font-weight: bold; line-height: 1; border-radius: 0.35em; vertical-align: middle; margin-left: 0.5rem\">GPE</span>\n",
       "</mark>\n",
       " als geluygen n de minute deses is behoorlyk getek d en gesz op een zegel n van een rd s onderstond quod altestor was gesek d n \n",
       "<mark class=\"entity\" style=\"background: #aa9cfc; padding: 0.45em 0.6em; margin: 0 0.25em; line-height: 1; border-radius: 0.35em;\">\n",
       "    j n\n",
       "    <span style=\"font-size: 0.8em; font-weight: bold; line-height: 1; border-radius: 0.35em; vertical-align: middle; margin-left: 0.5rem\">PERSON</span>\n",
       "</mark>\n",
       " bestbier not s ter zyde stond dit testament in alhier n ter weest gelesen en geregistreerd ingevolge heeren weesen n resolutie van eato deses batavia in de wirsk den n xber was getekt h n lacle secretaris n n ip huijden den \n",
       "<mark class=\"entity\" style=\"background: #bfe1d9; padding: 0.45em 0.6em; margin: 0 0.25em; line-height: 1; border-radius: 0.35em;\">\n",
       "    november\n",
       "    <span style=\"font-size: 0.8em; font-weight: bold; line-height: 1; border-radius: 0.35em; vertical-align: middle; margin-left: 0.5rem\">DATE</span>\n",
       "</mark>\n",
       " n des nademiddags te halff ses uuren n compareerde voor mij nicolaas van bergen van der n grijp not o publ bij d edele hooge regeringe van \n",
       "<mark class=\"entity\" style=\"background: #ff8197; padding: 0.45em 0.6em; margin: 0 0.25em; line-height: 1; border-radius: 0.35em;\">\n",
       "    nederlands\n",
       "    <span style=\"font-size: 0.8em; font-weight: bold; line-height: 1; border-radius: 0.35em; vertical-align: middle; margin-left: 0.5rem\">LANGUAGE</span>\n",
       "</mark>\n",
       " \n",
       "<mark class=\"entity\" style=\"background: #aa9cfc; padding: 0.45em 0.6em; margin: 0 0.25em; line-height: 1; border-radius: 0.35em;\">\n",
       "    indra n g\n",
       "    <span style=\"font-size: 0.8em; font-weight: bold; line-height: 1; border-radius: 0.35em; vertical-align: middle; margin-left: 0.5rem\">PERSON</span>\n",
       "</mark>\n",
       " admitteerd binnen de stad batavia resideerende present n de natemelden getuijgen den nicolaas iohannes n ouman adsistent ten dienste der e comp woonende af n hier my bekend zijnde ziekelijk van lichaam dog hebbende zynde n \n",
       "<mark class=\"entity\" style=\"background: #aa9cfc; padding: 0.45em 0.6em; margin: 0 0.25em; line-height: 1; border-radius: 0.35em;\">\n",
       "    volkomen\n",
       "    <span style=\"font-size: 0.8em; font-weight: bold; line-height: 1; border-radius: 0.35em; vertical-align: middle; margin-left: 0.5rem\">PERSON</span>\n",
       "</mark>\n",
       " n</div>\n",
       "</figure>\n",
       "</body>\n",
       "</html></span>"
      ],
      "text/plain": [
       "<IPython.core.display.HTML object>"
      ]
     },
     "metadata": {},
     "output_type": "display_data"
    }
   ],
   "source": [
    "displacy.render(doc, style=\"ent\",page=True)"
   ]
  },
  {
   "attachments": {},
   "cell_type": "markdown",
   "id": "4c98826c",
   "metadata": {},
   "source": [
    "**As you can see in the example above the SpaCy model does not perform well. This is because SpaCy's Dutch language model is trained on modern Dutch language data and may not be able to recognize or interpret older language forms or spelling conventions. Additionally, the model may not have been trained on vocabulary or entities specific to the time period or topic of your text.**\n",
    "\n",
    "**Other possible reasons why SpaCy may not work well on the task include:**\n",
    "\n",
    "- **Poor text quality**: If your text file contains errors or inconsistencies, such as misspelled words or incomplete sentences, SpaCy may struggle to identify named entities correctly.\n",
    "- **Ambiguity in entity names:** If your text file contains named entities that can refer to multiple things, Spacy may not be able to disambiguate the entity correctly.\n",
    "- **Small training data:** If your task involves identifying named entities that are rare or specific to a particular domain, and the SpaCy model has not been trained on much data related to that domain, it may not perform well on your task.\n"
   ]
  },
  {
   "cell_type": "code",
   "execution_count": 18,
   "id": "4ba4b42f",
   "metadata": {},
   "outputs": [],
   "source": [
    "# with open(data_path+'A/NL-HaNA_1.04.02_6848_0031.ann') as f:\n",
    "#         lines = f.readlines()\n",
    "# print(lines)"
   ]
  },
  {
   "cell_type": "code",
   "execution_count": null,
   "id": "68a8afca",
   "metadata": {},
   "outputs": [],
   "source": []
  },
  {
   "cell_type": "code",
   "execution_count": null,
   "id": "faf313d9",
   "metadata": {},
   "outputs": [],
   "source": []
  }
 ],
 "metadata": {
  "kernelspec": {
   "display_name": "Python 3 (ipykernel)",
   "language": "python",
   "name": "python3"
  },
  "language_info": {
   "codemirror_mode": {
    "name": "ipython",
    "version": 3
   },
   "file_extension": ".py",
   "mimetype": "text/x-python",
   "name": "python",
   "nbconvert_exporter": "python",
   "pygments_lexer": "ipython3",
   "version": "3.10.8"
  },
  "vscode": {
   "interpreter": {
    "hash": "aee8b7b246df8f9039afb4144a1f6fd8d2ca17a180786b69acc140d282b71a49"
   }
  }
 },
 "nbformat": 4,
 "nbformat_minor": 5
}
