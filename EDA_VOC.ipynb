{
 "cells": [
  {
   "cell_type": "markdown",
   "id": "5e25ea09-74d6-47e6-bad6-e922f52c3532",
   "metadata": {},
   "source": [
    "# 👤 Personal Information\n",
    "Name: **Sinem Ertem**\n",
    "\n",
    "StudentID: **14616068**\n",
    "\n",
    "Email: [**sinem.ertem@student.uva.nl**](youremail@student.uva.nl)\n",
    "\n",
    "Submitted on: **DD.MM.YYYY**"
   ]
  },
  {
   "cell_type": "markdown",
   "id": "e3cf6243-adfe-4eb8-bba3-bb2835079abd",
   "metadata": {},
   "source": [
    "# 📊 Data Context\n",
    "**Nationaal Archief <a name=\"NA\"></a>[<sup>[1]</sup>](#NA) is the Netherlands' official archive, responsible for preserving the country's historical documents and records. It is the largest archive in the country, with holdings dating back to the Middle Ages. Similarly, they have documents from the Dutch United East India Company (Verenigde Oostindische Compagnie or VOC). The VOC, founded in 1602, was unquestionably the most thriving of all trading companies in the seventeenth and eighteenth centuries <a name=\"Gaastra2007\"></a>[<sup>[2]</sup>](#Gaastra2007)**\n",
    "\n",
    "\n",
    "**VOC's archives provide a unique insight into the history of early modern Europe and the wider world. They contain records of business activities, such as trade contracts, shipping records, and financial accounts. They also include detailed accounts of the day-to-day life of the VOC and its employees. This wealth of information allows us to better understand the dynamics of early modern global trade and colonialism. Additionally, the archives provide an insight into the experiences of the people who lived and worked in the Dutch East Indies, including the effects of colonization on the local population and their interactions with Dutch merchants and traders.**\n",
    "\n",
    "**Luthra et al. <a name=\"luthra\"></a>[<sup>[3]</sup>](#luthra) released a corpus of nearly 70,000 annotations as a shared task, for which they provide strong baselines using state-of-the-art neural network models. The Data Card <a name=\"dc\"></a>[<sup>[4]</sup>](#dc) provides a synopsis of the dataset, motivations and uses. Below a snapshot of the dataset can be found. The dataset will be further analyzed in this notebook.**\n",
    "\n",
    "\n",
    "\n",
    "[1] https://www.nationaalarchief.nl/en \\\n",
    "[2] https://www.nationaalarchief.nl/sites/default/files/afbeeldingen/toegangen/NL-HaNA_1.04.02_introduction-VOC.pdf \\\n",
    "[3] https://www.emerald.com/insight/content/doi/10.1108/JD-02-2022-0038/full/html \\\n",
    "[4] https://github.com/budh333/UnSilence_VOC/blob/main/Datacard.pdf"
   ]
  },
  {
   "cell_type": "markdown",
   "id": "40b381cf",
   "metadata": {},
   "source": [
    "![image](img/dataset_snapshot.png)"
   ]
  },
  {
   "cell_type": "markdown",
   "id": "a833d964-56e1-49c7-8172-7435357624aa",
   "metadata": {},
   "source": [
    "# 📄 Data Description"
   ]
  },
  {
   "cell_type": "markdown",
   "id": "04b4bd7e",
   "metadata": {},
   "source": [
    "### Import libraries"
   ]
  },
  {
   "cell_type": "code",
   "execution_count": 1,
   "id": "534317db-d881-4e33-a358-754e2881e8bd",
   "metadata": {},
   "outputs": [],
   "source": [
    "import os\n",
    "import numpy as np\n",
    "import pandas as pd"
   ]
  },
  {
   "cell_type": "markdown",
   "id": "b582b299-f599-4140-a454-bcbfdeeb273f",
   "metadata": {},
   "source": [
    "### Data Loading"
   ]
  },
  {
   "cell_type": "code",
   "execution_count": 13,
   "id": "db46fc89",
   "metadata": {},
   "outputs": [
    {
     "data": {
      "text/plain": [
       "'/Users/sinem/PycharmProjects/NER-on-historical-colonial-archives-of-the-VOC/UnSilence_VOC-main/data/annotated_data'"
      ]
     },
     "execution_count": 13,
     "metadata": {},
     "output_type": "execute_result"
    }
   ],
   "source": [
    "'/Users/sinem/PycharmProjects/NER-on-historical-colonial-archives-of-the-VOC/UnSilence_VOC-main/data/annotated_data'"
   ]
  },
  {
   "cell_type": "code",
   "execution_count": null,
   "id": "1e2850fe",
   "metadata": {},
   "outputs": [],
   "source": []
  }
 ],
 "metadata": {
  "kernelspec": {
   "display_name": "Python 3 (ipykernel)",
   "language": "python",
   "name": "python3"
  },
  "language_info": {
   "codemirror_mode": {
    "name": "ipython",
    "version": 3
   },
   "file_extension": ".py",
   "mimetype": "text/x-python",
   "name": "python",
   "nbconvert_exporter": "python",
   "pygments_lexer": "ipython3",
   "version": "3.7.9"
  },
  "vscode": {
   "interpreter": {
    "hash": "f4bc7a400e35f160b13ed52195005e41b219907c1be09b125a1c17e685484faa"
   }
  }
 },
 "nbformat": 4,
 "nbformat_minor": 5
}
