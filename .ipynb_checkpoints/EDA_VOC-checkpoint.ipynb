{
 "cells": [
  {
   "cell_type": "markdown",
   "metadata": {},
   "source": [
    "# 👤 Personal Information\n",
    "Name: **Sinem Ertem**\n",
    "\n",
    "StudentID: **14616068**\n",
    "\n",
    "Email: [**sinem.ertem@student.uva.nl**](youremail@student.uva.nl)\n",
    "\n",
    "Submitted on: **DD.MM.YYYY**"
   ]
  },
  {
   "cell_type": "markdown",
   "metadata": {},
   "source": [
    "# 📊 Data Context\n",
    "**Nationaal Archief <a name=\"NA\"></a>[<sup>[1]</sup>](#NA) is the Netherlands' official archive, responsible for preserving the country's historical documents and records. It is the largest archive in the country, with holdings dating back to the Middle Ages. Similarly, they have documents from the Dutch United East India Company (Verenigde Oostindische Compagnie or VOC). The VOC, founded in 1602, was unquestionably the most thriving of all trading companies in the seventeenth and eighteenth centuries <a name=\"Gaastra2007\"></a>[<sup>[2]</sup>](#Gaastra2007)**\n",
    "\n",
    "\n",
    "**VOC's archives provide a unique insight into the history of early modern Europe and the wider world. They contain records of business activities, such as trade contracts, shipping records, and financial accounts. They also include detailed accounts of the day-to-day life of the VOC and its employees. This wealth of information allows us to better understand the dynamics of early modern global trade and colonialism. Additionally, the archives provide an insight into the experiences of the people who lived and worked in the Dutch East Indies, including the effects of colonization on the local population and their interactions with Dutch merchants and traders.**\n",
    "\n",
    "**Luthra et al. <a name=\"luthra\"></a>[<sup>[3]</sup>](#luthra) released a corpus of nearly 70,000 annotations as a shared task, for which they provide strong baselines using state-of-the-art neural network models. The Data Card <a name=\"dc\"></a>[<sup>[4]</sup>](#dc) provides a synopsis of the dataset, motivations and uses. The dataset will be further analyzed in this notebook.**\n",
    "\n",
    "## NLP\n",
    "\n",
    "**A way to better understand these historical archives is by Natural Language Processing (NLP). The domain of NLP, which is also known as computational linguistics, incorporates the engineering of computer models and processes to tackle such practically-oriented problems in understanding human languages.**\n",
    "\n",
    "**This research paper will delve into extracting useful information from text, more specifically, NER. NER corresponds to the identification of entities of interest in texts, generally of the types Person, Organisation and Location. Such entities serve as reference points that form the meaning of text and assist in its interpretation.**\n",
    "\n",
    "**Below you can find an image of the Typogoly used by Luthra et al.**"
   ]
  },
  {
   "cell_type": "markdown",
   "metadata": {},
   "source": [
    "![image](img/typology.png)"
   ]
  },
  {
   "cell_type": "markdown",
   "metadata": {},
   "source": [
    "### Entity [Person] with Attribute [Gender]"
   ]
  },
  {
   "cell_type": "markdown",
   "metadata": {},
   "source": [
    "**The values corrosponding to gender are divided into 4 different groups: Man, Woman, Group and Unspecfied with each there own color as seen in the image below**"
   ]
  },
  {
   "cell_type": "markdown",
   "metadata": {},
   "source": [
    "![image](img/attribute_gender.png)"
   ]
  },
  {
   "cell_type": "markdown",
   "metadata": {},
   "source": [
    "**If we apply the above to an example VOC Testament we get the following annotation:**"
   ]
  },
  {
   "cell_type": "markdown",
   "metadata": {},
   "source": [
    "![image](img/testament1.png)"
   ]
  },
  {
   "cell_type": "markdown",
   "metadata": {},
   "source": [
    "**What we can see in the image above is that 'Poedak' is annotated as Unspecified, 'Neeff Adam Domingo' as Man and 'vrijechristen Vrouw: Agar Jacobs as Woman'. Now that you have a better understanding of what NER is, let's analyze the dataset** "
   ]
  },
  {
   "cell_type": "markdown",
   "metadata": {},
   "source": [
    "**[1] https://www.nationaalarchief.nl/en \\\n",
    "[2] https://www.nationaalarchief.nl/sites/default/files/afbeeldingen/toegangen/NL-HaNA_1.04.02_introduction-VOC.pdf \\\n",
    "[3] https://www.emerald.com/insight/content/doi/10.1108/JD-02-2022-0038/full/html \\\n",
    "[4] https://github.com/budh333/UnSilence_VOC/blob/main/Datacard.pdf**"
   ]
  },
  {
   "cell_type": "markdown",
   "metadata": {},
   "source": [
    "# 📄 Data Description"
   ]
  },
  {
   "cell_type": "markdown",
   "metadata": {},
   "source": [
    "### Import libraries"
   ]
  },
  {
   "cell_type": "code",
   "execution_count": 1,
   "metadata": {},
   "outputs": [
    {
     "name": "stderr",
     "output_type": "stream",
     "text": [
      "/Library/Frameworks/Python.framework/Versions/3.8/lib/python3.8/site-packages/statsmodels/tools/_testing.py:19: FutureWarning: pandas.util.testing is deprecated. Use the functions in the public API at pandas.testing instead.\n",
      "  import pandas.util.testing as tm\n"
     ]
    }
   ],
   "source": [
    "import warnings\n",
    "warnings.filterwarnings('ignore')\n",
    "\n",
    "from tqdm import tqdm\n",
    "import os\n",
    "from glob import glob\n",
    "\n",
    "import pandas as pd\n",
    "\n",
    "import matplotlib.pyplot as plt\n",
    "import seaborn as sns\n",
    "\n",
    "from preprocessing import clean_text\n",
    "\n",
    "import spacy\n",
    "from spacy.lang.nl.examples import sentences \n",
    "nlp = spacy.load(\"nl_core_news_sm\") \n",
    "# nlp.pipe_names ['tok2vec', 'morphologizer', 'tagger', 'parser', 'lemmatizer', 'attribute_ruler','ner']"
   ]
  },
  {
   "cell_type": "markdown",
   "metadata": {},
   "source": [
    "### Data Loading"
   ]
  },
  {
   "cell_type": "code",
   "execution_count": 2,
   "metadata": {},
   "outputs": [],
   "source": [
    "# Within the annotated_data directory there are 5 different directories, with each containing both txt and ann files\n",
    "data_path = '../UnSilence_VOC-main/data/annotated_data/'"
   ]
  },
  {
   "cell_type": "code",
   "execution_count": 3,
   "metadata": {},
   "outputs": [
    {
     "name": "stdout",
     "output_type": "stream",
     "text": [
      "333\n",
      "267\n",
      "624\n",
      "463\n",
      "512\n"
     ]
    }
   ],
   "source": [
    "# In total there are 2199 annotation files and text files \n",
    "for i in ['A','B','C','D','E']:\n",
    "    file_list = os.listdir(data_path+i)\n",
    "    num_ann_files = len([filename for filename in file_list if filename.endswith('.ann')])\n",
    "    print(num_ann_files)"
   ]
  },
  {
   "cell_type": "code",
   "execution_count": 4,
   "metadata": {},
   "outputs": [],
   "source": [
    "def read_file(url):\n",
    "    with open(url) as f:\n",
    "        lines = f.readlines()\n",
    "        for line in lines:\n",
    "            line = line.strip()\n",
    "            print(line)"
   ]
  },
  {
   "cell_type": "markdown",
   "metadata": {},
   "source": [
    "#### VOC testament 1"
   ]
  },
  {
   "cell_type": "code",
   "execution_count": 5,
   "metadata": {
    "scrolled": true
   },
   "outputs": [
    {
     "name": "stdout",
     "output_type": "stream",
     "text": [
      "11\n",
      "„\n",
      "„\n",
      "35\n",
      "in beneven\n",
      "zijn Gemelde aanbehumde vader de voorneemde\n",
      "_\n",
      "5\n",
      "tames va\n",
      "e2\n",
      "25\n",
      "6\n",
      "welken hy testateur betuigde in dienst aangenemen en uitgevaren\n",
      "te zyn ten Eynde door haar hoog Edele groot agtb=r uytgekeerd\n",
      "te werden aan de geene da tot dies ontfangst zal ef zullen\n",
      "Wesen gequalificeerd\n",
      "Behuygende den toetateur op myne gedane verage dat zyn beidel\n",
      "beneden de Twee duivend rd:s was bedragen de\n",
      "voorts heb ik Not:s den Poetaleur behoorlyk g'informeerd van de\n",
      "Jongste besluyten door welmelde hunne hoog Edelhedens ten op„\n",
      "Bigt van de Lijsteygenen die gedoopt in de christelyke leere onderwesen\n",
      "zijn Successive genamen.\n",
      "Al T Gunt voorsz: staat den testateur ure en duydelyk voorge„\n",
      "lesen en voorgehouden in by zin E: zoo hy betuigde wel verstaan zynde\n",
      "begeerde hy dat dat instrument zijn volkomen efect mogte ge„\n",
      "pielen t By als testaaren Codicell gifte ter zake des doods chte\n",
      "Eenige andere makinge van uytferste Wille zulx ’t zelve best\n",
      "na regten zal konnen bestaan, schoon de nodige Solemnityten\n",
      "in desen gerequireerd met volkomen waaren G'observeerd:—\n",
      "Aldus gedaan ende getesteerd ten huyse Alss in den hoofde\n",
      "deses gemeld ter presentie van Lucas Andries en Carolustus\n",
      "Johannesz Clenq als geluygen\n",
      "De Minute deses is behoorlyk getek:d en gesz op Een zegel\n",
      "van Een Rd:s /onderstond/ quod Altestor / was gesek:d\n",
      "J: N: Bestbier not:s / ter zyde stond/ dit testament in alhier\n",
      "ter Weest gelesen en geregistreerd ingevolge heeren weesen.\n",
      "resolutie van Eato deses Batavia in de wirsk: den 15:\n",
      "xber 1784: /was Getekt/ H: N: Lacle Secretaris.\n",
      "1\n",
      "Ip Huijden den 25: November 1784:\n",
      "Des nademiddags te halff ses uuren\n",
      "Compareerde voor mij Nicolaas van Bergen van der\n",
      "Grijp Not:o publ: bij d’ Edele hooge regeringe van nederlands indra\n",
      "g'admitteerd binnen de stad Batavia resideerende present\n",
      "de natemelden getuijgen den 5: Nicolaas Iohannes\n",
      "Ouman adsistent ten dienste der E. Comp: woonende af„\n",
      "„hier my bekend zijnde ziekelijk van Lichaam dog hebbende zynde\n",
      "volkomen\n"
     ]
    }
   ],
   "source": [
    "read_file(data_path+'A/NL-HaNA_1.04.02_6848_0031.txt')"
   ]
  },
  {
   "cell_type": "markdown",
   "metadata": {},
   "source": [
    "#### VOC testament 1 annotations"
   ]
  },
  {
   "cell_type": "code",
   "execution_count": 6,
   "metadata": {
    "scrolled": true
   },
   "outputs": [
    {
     "name": "stdout",
     "output_type": "stream",
     "text": [
      "T1\tPerson 413 432\tNot:s den Poetaleur\n",
      "A1\tGender T1 Man\n",
      "A2\tLegalStatus T1 Unspecified\n",
      "T2\tProperName 419 431\tden Poetaleu\n",
      "T4\tProperName 1147 1160\tLucas Andries\n",
      "T7\tPerson 1316 1336\tJ: N: Bestbier not:s\n",
      "A10\tGender T7 Man\n",
      "A11\tLegalStatus T7 Unspecified\n",
      "T8\tProperName 1316 1330\tJ: N: Bestbier\n",
      "T10\tProperName 1464 1471\tBatavia\n",
      "T12\tProperName 1517 1528\tH: N: Lacle\n",
      "T13\tPerson 1633 1660;1661 1678\tNicolaas van Bergen van der Grijp Not:o publ:\n",
      "A16\tGender T13 Man\n",
      "A17\tLegalStatus T13 Unspecified\n",
      "T14\tProperName 1633 1660;1661 1666\tNicolaas van Bergen van der Grijp\n",
      "T16\tPlace 1712 1728\tnederlands indra\n",
      "T17\tProperName 1712 1728\tnederlands indra\n",
      "T18\tProperName 1692 1728\thooge regeringe van nederlands indra\n",
      "T19\tPlace 1742 1764\tbinnen de stad Batavia\n",
      "T20\tProperName 1757 1764\tBatavia\n",
      "T22\tProperName 1817 1834;1835 1840\tNicolaas Iohannes Ouman\n",
      "T26\tPerson 1517 1540\tH: N: Lacle Secretaris.\n",
      "A25\tGender T26 Man\n",
      "A26\tLegalStatus T26 Unspecified\n",
      "A3\tRole T1 Notary\n",
      "T3\tPerson 1147 1160\tLucas Andries\n",
      "A4\tGender T3 Man\n",
      "A5\tLegalStatus T3 Unspecified\n",
      "A6\tRole T3 Witness\n",
      "T5\tPerson 1164 1174;1175 1203\tCarolustus Johannesz Clenq als geluygen\n",
      "A7\tGender T5 Man\n",
      "A8\tLegalStatus T5 Unspecified\n",
      "A9\tRole T5 Witness\n",
      "T6\tProperName 1164 1174;1175 1184\tCarolustus Johannesz\n",
      "A12\tRole T7 Notary\n",
      "T11\tPlace 1369 1378;1379 1388\tin alhier ter Weest\n",
      "T25\tPlace 1464 1483\tBatavia in de wirsk\n",
      "A13\tRole T26 Other\n",
      "A14\tRole T13 Notary\n",
      "T9\tPerson 1817 1834;1835 1849\tNicolaas Iohannes Ouman adsisten\n",
      "A15\tGender T9 Man\n",
      "A18\tLegalStatus T9 Unspecified\n",
      "A19\tRole T9 Testator\n",
      "T21\tPerson 537 549\tLijsteygenen\n",
      "A20\tGender T21 Group\n",
      "A21\tLegalStatus T21 Enslaved\n",
      "A22\tRole T21 Other\n",
      "T24\tPlace 1087 1096\tten huyse\n",
      "T28\tProperName 1867 1874\tE. Comp\n"
     ]
    }
   ],
   "source": [
    "read_file(data_path+'A/NL-HaNA_1.04.02_6848_0031.ann')"
   ]
  },
  {
   "cell_type": "markdown",
   "metadata": {},
   "source": [
    "### SpaCy NER"
   ]
  },
  {
   "cell_type": "code",
   "execution_count": 29,
   "metadata": {},
   "outputs": [
    {
     "name": "stdout",
     "output_type": "stream",
     "text": [
      "twee | CARDINAL | Numerals that do not fall under another type\n",
      "november | DATE | Absolute or relative dates or periods\n",
      "o | NORP | Nationalities or religious or political groups\n",
      "nederlands | NORP | Nationalities or religious or political groups\n"
     ]
    }
   ],
   "source": [
    "with open(data_path+'A/NL-HaNA_1.04.02_6848_0031.txt') as f:\n",
    "        lines = f.readlines()\n",
    "\n",
    "text = clean_text(lines)\n",
    "doc = nlp(text)\n",
    "for ent in doc.ents:\n",
    "    print(ent.text, \"|\", ent.label_, \"|\", spacy.explain(ent.label_))"
   ]
  },
  {
   "cell_type": "code",
   "execution_count": 36,
   "metadata": {},
   "outputs": [
    {
     "name": "stdout",
     "output_type": "stream",
     "text": [
      "['T1\\tPerson 413 432\\tNot:s den Poetaleur\\n', 'A1\\tGender T1 Man\\n', 'A2\\tLegalStatus T1 Unspecified\\n', 'T2\\tProperName 419 431\\tden Poetaleu\\n', 'T4\\tProperName 1147 1160\\tLucas Andries\\n', 'T7\\tPerson 1316 1336\\tJ: N: Bestbier not:s\\n', 'A10\\tGender T7 Man\\n', 'A11\\tLegalStatus T7 Unspecified\\n', 'T8\\tProperName 1316 1330\\tJ: N: Bestbier\\n', 'T10\\tProperName 1464 1471\\tBatavia\\n', 'T12\\tProperName 1517 1528\\tH: N: Lacle\\n', 'T13\\tPerson 1633 1660;1661 1678\\tNicolaas van Bergen van der Grijp Not:o publ:\\n', 'A16\\tGender T13 Man\\n', 'A17\\tLegalStatus T13 Unspecified\\n', 'T14\\tProperName 1633 1660;1661 1666\\tNicolaas van Bergen van der Grijp\\n', 'T16\\tPlace 1712 1728\\tnederlands indra\\n', 'T17\\tProperName 1712 1728\\tnederlands indra\\n', 'T18\\tProperName 1692 1728\\thooge regeringe van nederlands indra\\n', 'T19\\tPlace 1742 1764\\tbinnen de stad Batavia\\n', 'T20\\tProperName 1757 1764\\tBatavia\\n', 'T22\\tProperName 1817 1834;1835 1840\\tNicolaas Iohannes Ouman\\n', 'T26\\tPerson 1517 1540\\tH: N: Lacle Secretaris.\\n', 'A25\\tGender T26 Man\\n', 'A26\\tLegalStatus T26 Unspecified\\n', 'A3\\tRole T1 Notary\\n', 'T3\\tPerson 1147 1160\\tLucas Andries\\n', 'A4\\tGender T3 Man\\n', 'A5\\tLegalStatus T3 Unspecified\\n', 'A6\\tRole T3 Witness\\n', 'T5\\tPerson 1164 1174;1175 1203\\tCarolustus Johannesz Clenq als geluygen\\n', 'A7\\tGender T5 Man\\n', 'A8\\tLegalStatus T5 Unspecified\\n', 'A9\\tRole T5 Witness\\n', 'T6\\tProperName 1164 1174;1175 1184\\tCarolustus Johannesz\\n', 'A12\\tRole T7 Notary\\n', 'T11\\tPlace 1369 1378;1379 1388\\tin alhier ter Weest\\n', 'T25\\tPlace 1464 1483\\tBatavia in de wirsk\\n', 'A13\\tRole T26 Other\\n', 'A14\\tRole T13 Notary\\n', 'T9\\tPerson 1817 1834;1835 1849\\tNicolaas Iohannes Ouman adsisten\\n', 'A15\\tGender T9 Man\\n', 'A18\\tLegalStatus T9 Unspecified\\n', 'A19\\tRole T9 Testator\\n', 'T21\\tPerson 537 549\\tLijsteygenen\\n', 'A20\\tGender T21 Group\\n', 'A21\\tLegalStatus T21 Enslaved\\n', 'A22\\tRole T21 Other\\n', 'T24\\tPlace 1087 1096\\tten huyse\\n', 'T28\\tProperName 1867 1874\\tE. Comp\\n']\n"
     ]
    }
   ],
   "source": [
    "with open(data_path+'A/NL-HaNA_1.04.02_6848_0031.ann') as f:\n",
    "        lines = f.readlines()\n",
    "print(lines)"
   ]
  },
  {
   "cell_type": "code",
   "execution_count": null,
   "metadata": {},
   "outputs": [],
   "source": []
  }
 ],
 "metadata": {
  "kernelspec": {
   "display_name": "Python 3 (ipykernel)",
   "language": "python",
   "name": "python3"
  },
  "language_info": {
   "codemirror_mode": {
    "name": "ipython",
    "version": 3
   },
   "file_extension": ".py",
   "mimetype": "text/x-python",
   "name": "python",
   "nbconvert_exporter": "python",
   "pygments_lexer": "ipython3",
   "version": "3.8.0"
  },
  "vscode": {
   "interpreter": {
    "hash": "aee8b7b246df8f9039afb4144a1f6fd8d2ca17a180786b69acc140d282b71a49"
   }
  }
 },
 "nbformat": 4,
 "nbformat_minor": 5
}
